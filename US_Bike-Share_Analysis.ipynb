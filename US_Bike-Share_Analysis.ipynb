{
 "cells": [
  {
   "cell_type": "markdown",
   "metadata": {},
   "source": [
    "# 2016 US Bike Share Activity Snapshot\n",
    "\n",
    "## Table of Contents\n",
    "- [Posing Questions](#pose_questions)\n",
    "- [Data Collection and Wrangling](#wrangling)\n",
    "  - [Condensing the Trip Data](#condensing)\n",
    "- [Exploratory Data Analysis](#eda)\n",
    "  - [Statistics](#statistics)\n",
    "  - [Visualizations](#visualizations)\n",
    "- [Performing Your Own Analysis](#eda_continued)\n",
    "- [Conclusions](#conclusions)\n",
    "\n",
    "\n"
   ]
  },
  {
   "cell_type": "markdown",
   "metadata": {},
   "source": [
    "<a id='pose_questions'></a>\n",
    "## Posing Questions\n",
    "\n",
    "Before looking at the bike sharing data, you should start by asking questions you might want to understand about the bike share data. Consider, for example, if you were working for Motivate. What kinds of information would you want to know about in order to make smarter business decisions? If you were a user of the bike-share service, what factors might influence how you would want to use the service?\n",
    "\n",
    "**Question 1**: Write at least two questions related to bike sharing that you think could be answered by data.\n",
    "\n",
    "**Answer 1**: \n",
    "\n",
    "- Q1. How many people travel from place A to place B by walking where bicycle-sharing system isn't installed? \n",
    "- Q2. How many people from them are willing to use our service? \n",
    "- Q3. How many of our users use subscription service? And how many dont? \n",
    "- Q4. How many of our users want to Subscribe to our service but is a little bit expensive to them?"
   ]
  },
  {
   "cell_type": "markdown",
   "metadata": {},
   "source": [
    "<a id='wrangling'></a>\n",
    "## Data Collection and Wrangling\n",
    "\n",
    "Now it's time to collect and explore our data.\n",
    "\n",
    "**Question 2**: However, there is still a lot of data for us to investigate, so it's a good idea to start off by looking at one entry from each of the cities we're going to analyze. Run the first code cell below to load some packages and functions that you'll be using in your analysis. Then, complete the second code cell to print out the first trip recorded from each of the cities (the second line of each data file).\n",
    "\n",
    "**Answer**"
   ]
  },
  {
   "cell_type": "code",
   "execution_count": 1,
   "metadata": {},
   "outputs": [],
   "source": [
    "#importing necessory modules for analyzing data\n",
    "import pandas as pd\n",
    "import numpy as np\n",
    "\n",
    "#importing graphing modules\n",
    "import matplotlib.pyplot as plt\n",
    "import seaborn as sns"
   ]
  },
  {
   "cell_type": "code",
   "execution_count": 2,
   "metadata": {},
   "outputs": [],
   "source": [
    "#assigning city data files to a pandas dataframe variable\n",
    "NYC_data = pd.read_csv('data/NYC-CitiBike-2016.csv')\n",
    "Chicago_data = pd.read_csv('data/Chicago-Divvy-2016.csv')\n",
    "Washington_DC_data = pd.read_csv('data/Washington-CapitalBikeshare-2016.csv')"
   ]
  },
  {
   "cell_type": "code",
   "execution_count": 3,
   "metadata": {},
   "outputs": [
    {
     "data": {
      "text/html": [
       "<div>\n",
       "<style scoped>\n",
       "    .dataframe tbody tr th:only-of-type {\n",
       "        vertical-align: middle;\n",
       "    }\n",
       "\n",
       "    .dataframe tbody tr th {\n",
       "        vertical-align: top;\n",
       "    }\n",
       "\n",
       "    .dataframe thead th {\n",
       "        text-align: right;\n",
       "    }\n",
       "</style>\n",
       "<table border=\"1\" class=\"dataframe\">\n",
       "  <thead>\n",
       "    <tr style=\"text-align: right;\">\n",
       "      <th></th>\n",
       "      <th>tripduration</th>\n",
       "      <th>starttime</th>\n",
       "      <th>stoptime</th>\n",
       "      <th>start station id</th>\n",
       "      <th>start station name</th>\n",
       "      <th>start station latitude</th>\n",
       "      <th>start station longitude</th>\n",
       "      <th>end station id</th>\n",
       "      <th>end station name</th>\n",
       "      <th>end station latitude</th>\n",
       "      <th>end station longitude</th>\n",
       "      <th>bikeid</th>\n",
       "      <th>usertype</th>\n",
       "      <th>birth year</th>\n",
       "      <th>gender</th>\n",
       "    </tr>\n",
       "  </thead>\n",
       "  <tbody>\n",
       "    <tr>\n",
       "      <th>0</th>\n",
       "      <td>839</td>\n",
       "      <td>1/1/2016 00:09:55</td>\n",
       "      <td>1/1/2016 00:23:54</td>\n",
       "      <td>532</td>\n",
       "      <td>S 5 Pl &amp; S 4 St</td>\n",
       "      <td>40.710451</td>\n",
       "      <td>-73.960876</td>\n",
       "      <td>401</td>\n",
       "      <td>Allen St &amp; Rivington St</td>\n",
       "      <td>40.720196</td>\n",
       "      <td>-73.989978</td>\n",
       "      <td>17109</td>\n",
       "      <td>Customer</td>\n",
       "      <td>NaN</td>\n",
       "      <td>0</td>\n",
       "    </tr>\n",
       "  </tbody>\n",
       "</table>\n",
       "</div>"
      ],
      "text/plain": [
       "   tripduration          starttime           stoptime  start station id  \\\n",
       "0           839  1/1/2016 00:09:55  1/1/2016 00:23:54               532   \n",
       "\n",
       "  start station name  start station latitude  start station longitude  \\\n",
       "0    S 5 Pl & S 4 St               40.710451               -73.960876   \n",
       "\n",
       "   end station id         end station name  end station latitude  \\\n",
       "0             401  Allen St & Rivington St             40.720196   \n",
       "\n",
       "   end station longitude  bikeid  usertype  birth year  gender  \n",
       "0             -73.989978   17109  Customer         NaN       0  "
      ]
     },
     "execution_count": 3,
     "metadata": {},
     "output_type": "execute_result"
    }
   ],
   "source": [
    "#printing out the first entry of New York city\n",
    "NYC_data.head(1)"
   ]
  },
  {
   "cell_type": "code",
   "execution_count": 4,
   "metadata": {},
   "outputs": [
    {
     "data": {
      "text/html": [
       "<div>\n",
       "<style scoped>\n",
       "    .dataframe tbody tr th:only-of-type {\n",
       "        vertical-align: middle;\n",
       "    }\n",
       "\n",
       "    .dataframe tbody tr th {\n",
       "        vertical-align: top;\n",
       "    }\n",
       "\n",
       "    .dataframe thead th {\n",
       "        text-align: right;\n",
       "    }\n",
       "</style>\n",
       "<table border=\"1\" class=\"dataframe\">\n",
       "  <thead>\n",
       "    <tr style=\"text-align: right;\">\n",
       "      <th></th>\n",
       "      <th>trip_id</th>\n",
       "      <th>starttime</th>\n",
       "      <th>stoptime</th>\n",
       "      <th>bikeid</th>\n",
       "      <th>tripduration</th>\n",
       "      <th>from_station_id</th>\n",
       "      <th>from_station_name</th>\n",
       "      <th>to_station_id</th>\n",
       "      <th>to_station_name</th>\n",
       "      <th>usertype</th>\n",
       "      <th>gender</th>\n",
       "      <th>birthyear</th>\n",
       "    </tr>\n",
       "  </thead>\n",
       "  <tbody>\n",
       "    <tr>\n",
       "      <th>0</th>\n",
       "      <td>9080545</td>\n",
       "      <td>3/31/2016 23:30</td>\n",
       "      <td>3/31/2016 23:46</td>\n",
       "      <td>2295</td>\n",
       "      <td>926</td>\n",
       "      <td>156</td>\n",
       "      <td>Clark St &amp; Wellington Ave</td>\n",
       "      <td>166</td>\n",
       "      <td>Ashland Ave &amp; Wrightwood Ave</td>\n",
       "      <td>Subscriber</td>\n",
       "      <td>Male</td>\n",
       "      <td>1990.0</td>\n",
       "    </tr>\n",
       "  </tbody>\n",
       "</table>\n",
       "</div>"
      ],
      "text/plain": [
       "   trip_id        starttime         stoptime  bikeid  tripduration  \\\n",
       "0  9080545  3/31/2016 23:30  3/31/2016 23:46    2295           926   \n",
       "\n",
       "   from_station_id          from_station_name  to_station_id  \\\n",
       "0              156  Clark St & Wellington Ave            166   \n",
       "\n",
       "                to_station_name    usertype gender  birthyear  \n",
       "0  Ashland Ave & Wrightwood Ave  Subscriber   Male     1990.0  "
      ]
     },
     "execution_count": 4,
     "metadata": {},
     "output_type": "execute_result"
    }
   ],
   "source": [
    "#printing out the first entry of Chicago city\n",
    "Chicago_data.head(1)"
   ]
  },
  {
   "cell_type": "code",
   "execution_count": 5,
   "metadata": {},
   "outputs": [
    {
     "data": {
      "text/html": [
       "<div>\n",
       "<style scoped>\n",
       "    .dataframe tbody tr th:only-of-type {\n",
       "        vertical-align: middle;\n",
       "    }\n",
       "\n",
       "    .dataframe tbody tr th {\n",
       "        vertical-align: top;\n",
       "    }\n",
       "\n",
       "    .dataframe thead th {\n",
       "        text-align: right;\n",
       "    }\n",
       "</style>\n",
       "<table border=\"1\" class=\"dataframe\">\n",
       "  <thead>\n",
       "    <tr style=\"text-align: right;\">\n",
       "      <th></th>\n",
       "      <th>Duration (ms)</th>\n",
       "      <th>Start date</th>\n",
       "      <th>End date</th>\n",
       "      <th>Start station number</th>\n",
       "      <th>Start station</th>\n",
       "      <th>End station number</th>\n",
       "      <th>End station</th>\n",
       "      <th>Bike number</th>\n",
       "      <th>Member Type</th>\n",
       "    </tr>\n",
       "  </thead>\n",
       "  <tbody>\n",
       "    <tr>\n",
       "      <th>0</th>\n",
       "      <td>427387</td>\n",
       "      <td>3/31/2016 22:57</td>\n",
       "      <td>3/31/2016 23:04</td>\n",
       "      <td>31602</td>\n",
       "      <td>Park Rd &amp; Holmead Pl NW</td>\n",
       "      <td>31207</td>\n",
       "      <td>Georgia Ave and Fairmont St NW</td>\n",
       "      <td>W20842</td>\n",
       "      <td>Registered</td>\n",
       "    </tr>\n",
       "  </tbody>\n",
       "</table>\n",
       "</div>"
      ],
      "text/plain": [
       "   Duration (ms)       Start date         End date  Start station number  \\\n",
       "0         427387  3/31/2016 22:57  3/31/2016 23:04                 31602   \n",
       "\n",
       "             Start station  End station number  \\\n",
       "0  Park Rd & Holmead Pl NW               31207   \n",
       "\n",
       "                      End station Bike number Member Type  \n",
       "0  Georgia Ave and Fairmont St NW      W20842  Registered  "
      ]
     },
     "execution_count": 5,
     "metadata": {},
     "output_type": "execute_result"
    }
   ],
   "source": [
    "#printing out the first entry of Washington DC city\n",
    "Washington_DC_data.head(1)"
   ]
  },
  {
   "cell_type": "markdown",
   "metadata": {},
   "source": [
    "The powerful and flexible pandas module makes acccessing data a lot easier by giving just few words of code. \n",
    "\n",
    "<a id='condensing'></a>\n",
    "### Condensing the Trip Data\n",
    "\n",
    "It should also be observable from the above printout that each city provides different information. Even where the information is the same, the column names and formats are sometimes different. To make things as simple as possible when we get to the actual exploration, we should trim and clean the data. Cleaning the data makes sure that the data formats across the cities are consistent, while trimming focuses only on the parts of the data we are most interested in to make the exploration easier to work with.\n",
    "\n",
    "You will generate new data files with five values of interest for each trip: trip duration, starting month, starting hour, day of the week, and user type. Each of these may require additional wrangling depending on the city:\n",
    "\n",
    "- **Duration**: This has been given to us in seconds (New York, Chicago) or milliseconds (Washington). A more natural unit of analysis will be if all the trip durations are given in terms of minutes.\n",
    "- **Month**, **Hour**, **Day of Week**: Ridership volume is likely to change based on the season, time of day, and whether it is a weekday or weekend. Use the start time of the trip to obtain these values. The New York City data includes the seconds in their timestamps, while Washington and Chicago do not. The [`datetime`](https://docs.python.org/3/library/datetime.html) package will be very useful here to make the needed conversions.\n",
    "- **User Type**: It is possible that users who are subscribed to a bike-share system will have different patterns of use compared to users who only have temporary passes. Washington divides its users into two types: 'Registered' for users with annual, monthly, and other longer-term subscriptions, and 'Casual', for users with 24-hour, 3-day, and other short-term passes. The New York and Chicago data uses 'Subscriber' and 'Customer' for these groups, respectively. For consistency, you will convert the Washington labels to match the other two.\n",
    "\n",
    "\n",
    "**Question 3a**: Address each of the cleaning tasks described above.\n",
    "\n",
    "**Answer:**"
   ]
  },
  {
   "cell_type": "code",
   "execution_count": 6,
   "metadata": {},
   "outputs": [],
   "source": [
    "\"\"\"Converting duration columns to minutes of each files\"\"\"\n",
    "\n",
    "#since New York & Chicago duration have been given in second, we divide by 60 converting in min\n",
    "NYC_data['tripduration'] = NYC_data['tripduration']/60\n",
    "Chicago_data['tripduration'] = Chicago_data['tripduration']/60\n",
    "\n",
    "#since Washington has in miliseconds...\n",
    "Washington_DC_data['Duration (ms)'] = Washington_DC_data['Duration (ms)']/60000"
   ]
  },
  {
   "cell_type": "code",
   "execution_count": 7,
   "metadata": {},
   "outputs": [],
   "source": [
    "\"\"\"Converting Start time of the trip of each file to datetime format\"\"\"\n",
    "\n",
    "#converting each file to datetime\n",
    "NYC_data['starttime'] = pd.to_datetime(NYC_data['starttime'])\n",
    "Chicago_data['starttime'] = pd.to_datetime(Chicago_data['starttime'])\n",
    "Washington_DC_data['Start date'] = pd.to_datetime(Washington_DC_data['Start date'])"
   ]
  },
  {
   "cell_type": "code",
   "execution_count": 8,
   "metadata": {},
   "outputs": [],
   "source": [
    "\"\"\"Changing User type of Washington DC city to match other city values for convenience\"\"\"\n",
    "\n",
    "#chaning member type colum values\n",
    "Washington_DC_data['Member Type'].replace(to_replace = 'Registered', value = 'Subscriber', inplace = True)\n",
    "Washington_DC_data['Member Type'].replace(to_replace = 'Casual', value = 'Customer', inplace = True)"
   ]
  },
  {
   "cell_type": "code",
   "execution_count": 9,
   "metadata": {},
   "outputs": [
    {
     "data": {
      "text/html": [
       "<div>\n",
       "<style scoped>\n",
       "    .dataframe tbody tr th:only-of-type {\n",
       "        vertical-align: middle;\n",
       "    }\n",
       "\n",
       "    .dataframe tbody tr th {\n",
       "        vertical-align: top;\n",
       "    }\n",
       "\n",
       "    .dataframe thead th {\n",
       "        text-align: right;\n",
       "    }\n",
       "</style>\n",
       "<table border=\"1\" class=\"dataframe\">\n",
       "  <thead>\n",
       "    <tr style=\"text-align: right;\">\n",
       "      <th></th>\n",
       "      <th>tripduration</th>\n",
       "      <th>starttime</th>\n",
       "      <th>stoptime</th>\n",
       "      <th>start station id</th>\n",
       "      <th>start station name</th>\n",
       "      <th>start station latitude</th>\n",
       "      <th>start station longitude</th>\n",
       "      <th>end station id</th>\n",
       "      <th>end station name</th>\n",
       "      <th>end station latitude</th>\n",
       "      <th>end station longitude</th>\n",
       "      <th>bikeid</th>\n",
       "      <th>usertype</th>\n",
       "      <th>birth year</th>\n",
       "      <th>gender</th>\n",
       "    </tr>\n",
       "  </thead>\n",
       "  <tbody>\n",
       "    <tr>\n",
       "      <th>0</th>\n",
       "      <td>13.983333</td>\n",
       "      <td>2016-01-01 00:09:55</td>\n",
       "      <td>1/1/2016 00:23:54</td>\n",
       "      <td>532</td>\n",
       "      <td>S 5 Pl &amp; S 4 St</td>\n",
       "      <td>40.710451</td>\n",
       "      <td>-73.960876</td>\n",
       "      <td>401</td>\n",
       "      <td>Allen St &amp; Rivington St</td>\n",
       "      <td>40.720196</td>\n",
       "      <td>-73.989978</td>\n",
       "      <td>17109</td>\n",
       "      <td>Customer</td>\n",
       "      <td>NaN</td>\n",
       "      <td>0</td>\n",
       "    </tr>\n",
       "  </tbody>\n",
       "</table>\n",
       "</div>"
      ],
      "text/plain": [
       "   tripduration           starttime           stoptime  start station id  \\\n",
       "0     13.983333 2016-01-01 00:09:55  1/1/2016 00:23:54               532   \n",
       "\n",
       "  start station name  start station latitude  start station longitude  \\\n",
       "0    S 5 Pl & S 4 St               40.710451               -73.960876   \n",
       "\n",
       "   end station id         end station name  end station latitude  \\\n",
       "0             401  Allen St & Rivington St             40.720196   \n",
       "\n",
       "   end station longitude  bikeid  usertype  birth year  gender  \n",
       "0             -73.989978   17109  Customer         NaN       0  "
      ]
     },
     "execution_count": 9,
     "metadata": {},
     "output_type": "execute_result"
    }
   ],
   "source": [
    "NYC_data.head(1)"
   ]
  },
  {
   "cell_type": "code",
   "execution_count": 10,
   "metadata": {},
   "outputs": [
    {
     "data": {
      "text/html": [
       "<div>\n",
       "<style scoped>\n",
       "    .dataframe tbody tr th:only-of-type {\n",
       "        vertical-align: middle;\n",
       "    }\n",
       "\n",
       "    .dataframe tbody tr th {\n",
       "        vertical-align: top;\n",
       "    }\n",
       "\n",
       "    .dataframe thead th {\n",
       "        text-align: right;\n",
       "    }\n",
       "</style>\n",
       "<table border=\"1\" class=\"dataframe\">\n",
       "  <thead>\n",
       "    <tr style=\"text-align: right;\">\n",
       "      <th></th>\n",
       "      <th>trip_id</th>\n",
       "      <th>starttime</th>\n",
       "      <th>stoptime</th>\n",
       "      <th>bikeid</th>\n",
       "      <th>tripduration</th>\n",
       "      <th>from_station_id</th>\n",
       "      <th>from_station_name</th>\n",
       "      <th>to_station_id</th>\n",
       "      <th>to_station_name</th>\n",
       "      <th>usertype</th>\n",
       "      <th>gender</th>\n",
       "      <th>birthyear</th>\n",
       "    </tr>\n",
       "  </thead>\n",
       "  <tbody>\n",
       "    <tr>\n",
       "      <th>0</th>\n",
       "      <td>9080545</td>\n",
       "      <td>2016-03-31 23:30:00</td>\n",
       "      <td>3/31/2016 23:46</td>\n",
       "      <td>2295</td>\n",
       "      <td>15.433333</td>\n",
       "      <td>156</td>\n",
       "      <td>Clark St &amp; Wellington Ave</td>\n",
       "      <td>166</td>\n",
       "      <td>Ashland Ave &amp; Wrightwood Ave</td>\n",
       "      <td>Subscriber</td>\n",
       "      <td>Male</td>\n",
       "      <td>1990.0</td>\n",
       "    </tr>\n",
       "  </tbody>\n",
       "</table>\n",
       "</div>"
      ],
      "text/plain": [
       "   trip_id           starttime         stoptime  bikeid  tripduration  \\\n",
       "0  9080545 2016-03-31 23:30:00  3/31/2016 23:46    2295     15.433333   \n",
       "\n",
       "   from_station_id          from_station_name  to_station_id  \\\n",
       "0              156  Clark St & Wellington Ave            166   \n",
       "\n",
       "                to_station_name    usertype gender  birthyear  \n",
       "0  Ashland Ave & Wrightwood Ave  Subscriber   Male     1990.0  "
      ]
     },
     "execution_count": 10,
     "metadata": {},
     "output_type": "execute_result"
    }
   ],
   "source": [
    "Chicago_data.head(1)"
   ]
  },
  {
   "cell_type": "code",
   "execution_count": 11,
   "metadata": {},
   "outputs": [
    {
     "data": {
      "text/html": [
       "<div>\n",
       "<style scoped>\n",
       "    .dataframe tbody tr th:only-of-type {\n",
       "        vertical-align: middle;\n",
       "    }\n",
       "\n",
       "    .dataframe tbody tr th {\n",
       "        vertical-align: top;\n",
       "    }\n",
       "\n",
       "    .dataframe thead th {\n",
       "        text-align: right;\n",
       "    }\n",
       "</style>\n",
       "<table border=\"1\" class=\"dataframe\">\n",
       "  <thead>\n",
       "    <tr style=\"text-align: right;\">\n",
       "      <th></th>\n",
       "      <th>Duration (ms)</th>\n",
       "      <th>Start date</th>\n",
       "      <th>End date</th>\n",
       "      <th>Start station number</th>\n",
       "      <th>Start station</th>\n",
       "      <th>End station number</th>\n",
       "      <th>End station</th>\n",
       "      <th>Bike number</th>\n",
       "      <th>Member Type</th>\n",
       "    </tr>\n",
       "  </thead>\n",
       "  <tbody>\n",
       "    <tr>\n",
       "      <th>0</th>\n",
       "      <td>7.123117</td>\n",
       "      <td>2016-03-31 22:57:00</td>\n",
       "      <td>3/31/2016 23:04</td>\n",
       "      <td>31602</td>\n",
       "      <td>Park Rd &amp; Holmead Pl NW</td>\n",
       "      <td>31207</td>\n",
       "      <td>Georgia Ave and Fairmont St NW</td>\n",
       "      <td>W20842</td>\n",
       "      <td>Subscriber</td>\n",
       "    </tr>\n",
       "  </tbody>\n",
       "</table>\n",
       "</div>"
      ],
      "text/plain": [
       "   Duration (ms)          Start date         End date  Start station number  \\\n",
       "0       7.123117 2016-03-31 22:57:00  3/31/2016 23:04                 31602   \n",
       "\n",
       "             Start station  End station number  \\\n",
       "0  Park Rd & Holmead Pl NW               31207   \n",
       "\n",
       "                      End station Bike number Member Type  \n",
       "0  Georgia Ave and Fairmont St NW      W20842  Subscriber  "
      ]
     },
     "execution_count": 11,
     "metadata": {},
     "output_type": "execute_result"
    }
   ],
   "source": [
    "Washington_DC_data.head(1)"
   ]
  },
  {
   "cell_type": "markdown",
   "metadata": {},
   "source": [
    "**Question 3b**: Now, create a condensed data file for each city consisting only of the data fields indicated above.\n",
    "\n",
    "**Answer :**"
   ]
  },
  {
   "cell_type": "code",
   "execution_count": 12,
   "metadata": {},
   "outputs": [
    {
     "data": {
      "text/html": [
       "<div>\n",
       "<style scoped>\n",
       "    .dataframe tbody tr th:only-of-type {\n",
       "        vertical-align: middle;\n",
       "    }\n",
       "\n",
       "    .dataframe tbody tr th {\n",
       "        vertical-align: top;\n",
       "    }\n",
       "\n",
       "    .dataframe thead th {\n",
       "        text-align: right;\n",
       "    }\n",
       "</style>\n",
       "<table border=\"1\" class=\"dataframe\">\n",
       "  <thead>\n",
       "    <tr style=\"text-align: right;\">\n",
       "      <th></th>\n",
       "      <th>tripduration</th>\n",
       "      <th>usertype</th>\n",
       "      <th>month</th>\n",
       "      <th>hour</th>\n",
       "      <th>day_of_week</th>\n",
       "    </tr>\n",
       "  </thead>\n",
       "  <tbody>\n",
       "    <tr>\n",
       "      <th>0</th>\n",
       "      <td>13.983333</td>\n",
       "      <td>Customer</td>\n",
       "      <td>1</td>\n",
       "      <td>0</td>\n",
       "      <td>Friday</td>\n",
       "    </tr>\n",
       "    <tr>\n",
       "      <th>1</th>\n",
       "      <td>11.433333</td>\n",
       "      <td>Subscriber</td>\n",
       "      <td>1</td>\n",
       "      <td>0</td>\n",
       "      <td>Friday</td>\n",
       "    </tr>\n",
       "  </tbody>\n",
       "</table>\n",
       "</div>"
      ],
      "text/plain": [
       "   tripduration    usertype  month  hour day_of_week\n",
       "0     13.983333    Customer      1     0      Friday\n",
       "1     11.433333  Subscriber      1     0      Friday"
      ]
     },
     "execution_count": 12,
     "metadata": {},
     "output_type": "execute_result"
    }
   ],
   "source": [
    "\"New York\"\n",
    "#first lets split datetime values into different columns\n",
    "\n",
    "#will display month\n",
    "NYC_data['month'] = NYC_data['starttime'].dt.month\n",
    "#will display hour\n",
    "NYC_data['hour'] = NYC_data['starttime'].dt.hour\n",
    "#will display name of the day\n",
    "NYC_data['day_of_week'] = NYC_data['starttime'].dt.weekday_name\n",
    "\n",
    "#now lets drop unneccesory columns\n",
    "NYC_data.drop(['starttime', 'stoptime', 'start station id', 'start station name', 'start station latitude', 'start station longitude', \n",
    "               'end station id', 'end station name', 'end station latitude', 'end station longitude', 'bikeid', \n",
    "               'birth year', 'gender'], axis = 1, inplace = True)\n",
    "\n",
    "#dsiplaying first two rows\n",
    "NYC_data.head(2)"
   ]
  },
  {
   "cell_type": "code",
   "execution_count": 13,
   "metadata": {},
   "outputs": [
    {
     "data": {
      "text/html": [
       "<div>\n",
       "<style scoped>\n",
       "    .dataframe tbody tr th:only-of-type {\n",
       "        vertical-align: middle;\n",
       "    }\n",
       "\n",
       "    .dataframe tbody tr th {\n",
       "        vertical-align: top;\n",
       "    }\n",
       "\n",
       "    .dataframe thead th {\n",
       "        text-align: right;\n",
       "    }\n",
       "</style>\n",
       "<table border=\"1\" class=\"dataframe\">\n",
       "  <thead>\n",
       "    <tr style=\"text-align: right;\">\n",
       "      <th></th>\n",
       "      <th>tripduration</th>\n",
       "      <th>usertype</th>\n",
       "      <th>month</th>\n",
       "      <th>hour</th>\n",
       "      <th>day_of_week</th>\n",
       "    </tr>\n",
       "  </thead>\n",
       "  <tbody>\n",
       "    <tr>\n",
       "      <th>0</th>\n",
       "      <td>15.433333</td>\n",
       "      <td>Subscriber</td>\n",
       "      <td>3</td>\n",
       "      <td>23</td>\n",
       "      <td>Thursday</td>\n",
       "    </tr>\n",
       "    <tr>\n",
       "      <th>1</th>\n",
       "      <td>3.300000</td>\n",
       "      <td>Subscriber</td>\n",
       "      <td>3</td>\n",
       "      <td>22</td>\n",
       "      <td>Thursday</td>\n",
       "    </tr>\n",
       "  </tbody>\n",
       "</table>\n",
       "</div>"
      ],
      "text/plain": [
       "   tripduration    usertype  month  hour day_of_week\n",
       "0     15.433333  Subscriber      3    23    Thursday\n",
       "1      3.300000  Subscriber      3    22    Thursday"
      ]
     },
     "execution_count": 13,
     "metadata": {},
     "output_type": "execute_result"
    }
   ],
   "source": [
    "\"Chicago\"\n",
    "#first lets split datetime values into different columns\n",
    "\n",
    "#will display month\n",
    "Chicago_data['month'] = Chicago_data['starttime'].dt.month\n",
    "#will display hour\n",
    "Chicago_data['hour'] = Chicago_data['starttime'].dt.hour\n",
    "#will display name of the day\n",
    "Chicago_data['day_of_week'] = Chicago_data['starttime'].dt.weekday_name\n",
    "\n",
    "#now lets drop unneccesory columns\n",
    "Chicago_data.drop(['trip_id', 'starttime', 'stoptime','from_station_id', 'from_station_name', 'to_station_id', 'to_station_name',\n",
    "                   'bikeid', 'birthyear', 'gender'], axis = 1, inplace = True)\n",
    "\n",
    "#dsiplaying first two rows\n",
    "Chicago_data.head(2)"
   ]
  },
  {
   "cell_type": "code",
   "execution_count": 14,
   "metadata": {},
   "outputs": [
    {
     "data": {
      "text/html": [
       "<div>\n",
       "<style scoped>\n",
       "    .dataframe tbody tr th:only-of-type {\n",
       "        vertical-align: middle;\n",
       "    }\n",
       "\n",
       "    .dataframe tbody tr th {\n",
       "        vertical-align: top;\n",
       "    }\n",
       "\n",
       "    .dataframe thead th {\n",
       "        text-align: right;\n",
       "    }\n",
       "</style>\n",
       "<table border=\"1\" class=\"dataframe\">\n",
       "  <thead>\n",
       "    <tr style=\"text-align: right;\">\n",
       "      <th></th>\n",
       "      <th>Duration (ms)</th>\n",
       "      <th>Member Type</th>\n",
       "      <th>month</th>\n",
       "      <th>hour</th>\n",
       "      <th>day_of_week</th>\n",
       "    </tr>\n",
       "  </thead>\n",
       "  <tbody>\n",
       "    <tr>\n",
       "      <th>0</th>\n",
       "      <td>7.123117</td>\n",
       "      <td>Subscriber</td>\n",
       "      <td>3</td>\n",
       "      <td>22</td>\n",
       "      <td>Thursday</td>\n",
       "    </tr>\n",
       "    <tr>\n",
       "      <th>1</th>\n",
       "      <td>9.792517</td>\n",
       "      <td>Subscriber</td>\n",
       "      <td>3</td>\n",
       "      <td>22</td>\n",
       "      <td>Thursday</td>\n",
       "    </tr>\n",
       "  </tbody>\n",
       "</table>\n",
       "</div>"
      ],
      "text/plain": [
       "   Duration (ms) Member Type  month  hour day_of_week\n",
       "0       7.123117  Subscriber      3    22    Thursday\n",
       "1       9.792517  Subscriber      3    22    Thursday"
      ]
     },
     "execution_count": 14,
     "metadata": {},
     "output_type": "execute_result"
    }
   ],
   "source": [
    "\"Washington DC\"\n",
    "#first lets split datetime values into different columns\n",
    "\n",
    "#will display month\n",
    "Washington_DC_data['month'] = Washington_DC_data['Start date'].dt.month\n",
    "#will display hour\n",
    "Washington_DC_data['hour'] = Washington_DC_data['Start date'].dt.hour\n",
    "#will display name of the day\n",
    "Washington_DC_data['day_of_week'] = Washington_DC_data['Start date'].dt.weekday_name\n",
    "\n",
    "\n",
    "#now lets drop unneccesory columns\n",
    "Washington_DC_data.drop(['Start date', 'End date','Start station number', 'Start station', 'End station number', \n",
    "                         'End station', 'Bike number'], axis = 1, inplace = True)\n",
    "\n",
    "#dsiplaying first two rows\n",
    "Washington_DC_data.head(2)"
   ]
  },
  {
   "cell_type": "markdown",
   "metadata": {},
   "source": [
    "Before converting the above dataframes to csv, let's change the column names of Washington city where it has two columns that don't match with other 2 cities. Having same column names across three cities in a csv file makes our code and life easier a bit!!"
   ]
  },
  {
   "cell_type": "code",
   "execution_count": 15,
   "metadata": {},
   "outputs": [
    {
     "data": {
      "text/html": [
       "<div>\n",
       "<style scoped>\n",
       "    .dataframe tbody tr th:only-of-type {\n",
       "        vertical-align: middle;\n",
       "    }\n",
       "\n",
       "    .dataframe tbody tr th {\n",
       "        vertical-align: top;\n",
       "    }\n",
       "\n",
       "    .dataframe thead th {\n",
       "        text-align: right;\n",
       "    }\n",
       "</style>\n",
       "<table border=\"1\" class=\"dataframe\">\n",
       "  <thead>\n",
       "    <tr style=\"text-align: right;\">\n",
       "      <th></th>\n",
       "      <th>tripduration</th>\n",
       "      <th>usertype</th>\n",
       "      <th>month</th>\n",
       "      <th>hour</th>\n",
       "      <th>day_of_week</th>\n",
       "    </tr>\n",
       "  </thead>\n",
       "  <tbody>\n",
       "    <tr>\n",
       "      <th>0</th>\n",
       "      <td>7.123117</td>\n",
       "      <td>Subscriber</td>\n",
       "      <td>3</td>\n",
       "      <td>22</td>\n",
       "      <td>Thursday</td>\n",
       "    </tr>\n",
       "  </tbody>\n",
       "</table>\n",
       "</div>"
      ],
      "text/plain": [
       "   tripduration    usertype  month  hour day_of_week\n",
       "0      7.123117  Subscriber      3    22    Thursday"
      ]
     },
     "execution_count": 15,
     "metadata": {},
     "output_type": "execute_result"
    }
   ],
   "source": [
    "Washington_DC_data.rename(columns = {'Duration (ms)' : 'tripduration', 'Member Type': 'usertype'}, inplace = True)\n",
    "Washington_DC_data.head(1)"
   ]
  },
  {
   "cell_type": "code",
   "execution_count": 16,
   "metadata": {},
   "outputs": [],
   "source": [
    "\"\"\"Now Converting these dataframes to csv file\"\"\"\n",
    "\n",
    "#the csv format will be placed in 'output' folder\n",
    "\n",
    "#NYC\n",
    "NYC_data.to_csv(r'output\\NYC.csv', encoding = 'utf-8', index = False, columns = ['tripduration', 'month', 'day_of_week', 'hour',\n",
    "                                                                                 'usertype'])\n",
    "#Chicago\n",
    "Chicago_data.to_csv(r'output\\Chicago.csv', encoding = 'utf-8', index = False, columns = ['tripduration', 'month', 'day_of_week',\n",
    "                                                                                         'hour', 'usertype'])\n",
    "#Washington\n",
    "Washington_DC_data.to_csv(r'output\\Washington_DC.csv', encoding = 'utf-8', index = False, columns = ['tripduration', 'month', \n",
    "                                                                                                     'day_of_week', 'hour', \n",
    "                                                                                                     'usertype'])"
   ]
  },
  {
   "cell_type": "markdown",
   "metadata": {},
   "source": [
    "<a id='eda'></a>\n",
    "## Exploratory Data Analysis\n",
    "\n",
    "Now that you have the data collected and wrangled, you're ready to start exploring the data. In this section you will write some code to compute descriptive statistics from the data. You will also be introduced to the `matplotlib` library to create some basic histograms of the data.\n",
    "\n",
    "<a id='statistics'></a>\n",
    "### Statistics\n",
    "\n",
    "**Question 4a**: Which city has the highest number of trips? Which city has the highest proportion of trips made by subscribers? Which city has the highest proportion of trips made by short-term customers?\n",
    "\n",
    "**Answer**: "
   ]
  },
  {
   "cell_type": "code",
   "execution_count": 17,
   "metadata": {},
   "outputs": [],
   "source": [
    "#reading new data files from output folder\n",
    "NYC_data = pd.read_csv('output/NYC.csv')\n",
    "Chicago_data = pd.read_csv('output/Chicago.csv')\n",
    "Washington_DC_data = pd.read_csv('output/Washington_DC.csv')"
   ]
  },
  {
   "cell_type": "code",
   "execution_count": 18,
   "metadata": {},
   "outputs": [],
   "source": [
    "#giving list of variables which hold datafiles \n",
    "cities_data = [NYC_data, Chicago_data, Washington_DC_data]\n",
    "\n",
    "#giving a list city names\n",
    "city_names = ['NYC', 'Chicago', 'Washington']"
   ]
  },
  {
   "cell_type": "code",
   "execution_count": 19,
   "metadata": {},
   "outputs": [],
   "source": [
    "#giving a function to calculate statistics\n",
    "def total_count(city):\n",
    "    \n",
    "    #this gives us total no. of subscribers and customers from 'usertype' column since each file has same column name\n",
    "    subs, cust = city['usertype'].value_counts()\n",
    "    #giving total number of datatrips of the city\n",
    "    total = subs + cust\n",
    "    \n",
    "    return (subs, cust, total)"
   ]
  },
  {
   "cell_type": "code",
   "execution_count": 20,
   "metadata": {},
   "outputs": [
    {
     "name": "stdout",
     "output_type": "stream",
     "text": [
      "In NYC city, the total no. of Subscribers are 245896, Customers are 30185 and total no. of rides is 276081\n",
      "\n",
      "In Chicago city, the total no. of Subscribers are 54982, Customers are 17149 and total no. of rides is 72131\n",
      "\n",
      "In Washington city, the total no. of Subscribers are 51753, Customers are 14573 and total no. of rides is 66326\n",
      "\n"
     ]
    }
   ],
   "source": [
    "#for printing city name\n",
    "i = 0\n",
    "\n",
    "#looping through list of datafiles and calling the function to print each cities statistics\n",
    "for city in cities_data:\n",
    "    \n",
    "    #will store the return values in these var\n",
    "    subs, cust, total = total_count(city)\n",
    "    #displaying statistics of each city\n",
    "    print('In ' + city_names[i] +' city, the total no. of Subscribers are ' + str(subs) + ', Customers are ' + str(cust) + ' and total no. of rides is ' + str(total) + '\\n')\n",
    "    \n",
    "    #will display next city name\n",
    "    i+=1"
   ]
  },
  {
   "cell_type": "markdown",
   "metadata": {},
   "source": [
    "From the above data computed, now we can answer for the above questions:\n",
    "\n",
    "- New York has the highest number of trips of 276798. \n",
    "- New York has the highest proportion of trips made by subscribers.(0.888) \n",
    "- Chicago has the highest proportion of trips made by short-term customers.(0.237)"
   ]
  },
  {
   "cell_type": "markdown",
   "metadata": {},
   "source": [
    "\n",
    "\n",
    "\n",
    "**Question 4b**: Bike-share systems are designed for riders to take short trips. Most of the time, users are allowed to take trips of 30 minutes or less with no additional charges, with overage charges made for trips of longer than that duration. What is the average trip length for each city? What proportion of rides made in each city are longer than 30 minutes?"
   ]
  },
  {
   "cell_type": "code",
   "execution_count": 21,
   "metadata": {},
   "outputs": [],
   "source": [
    "#function to calculate avg\n",
    "def average_trip_length(city):\n",
    "    #taking avg of trip duration\n",
    "    avg = city['tripduration'].mean()\n",
    "    return avg"
   ]
  },
  {
   "cell_type": "code",
   "execution_count": 22,
   "metadata": {},
   "outputs": [
    {
     "name": "stdout",
     "output_type": "stream",
     "text": [
      "For NYC city, the average tip length is 15.812592998\n",
      "\n",
      "For Chicago city, the average tip length is 16.5636293688\n",
      "\n",
      "For Washington city, the average tip length is 18.9328735591\n",
      "\n"
     ]
    }
   ],
   "source": [
    "#for printing city name\n",
    "i = 0\n",
    "\n",
    "#looping through list of datafiles and calling the function to print each cities statistics\n",
    "for city in cities_data:\n",
    "    \n",
    "    #will store the return values of the func to a var\n",
    "    avg = average_trip_length(city)\n",
    "    #displaying statistics of each city\n",
    "    print('For ' + city_names[i] +' city, the average tip length is ' + str(avg) + '\\n')\n",
    "    \n",
    "    #will display next city name\n",
    "    i+=1"
   ]
  },
  {
   "cell_type": "code",
   "execution_count": 23,
   "metadata": {},
   "outputs": [],
   "source": [
    "def lenght_more_30min(city):\n",
    "    #gives total no.of trip rides of the city\n",
    "    total_trip_rides = city.shape[0]\n",
    "    \n",
    "    #gives boolean values if greater\n",
    "    no_trips = city['tripduration'] >= 30.0\n",
    "    \n",
    "    #return no. of True boolean values and total rides\n",
    "    return no_trips.sum() , total_trip_rides"
   ]
  },
  {
   "cell_type": "code",
   "execution_count": 24,
   "metadata": {},
   "outputs": [
    {
     "name": "stdout",
     "output_type": "stream",
     "text": [
      "Proportion of trips longer than 30 min in NYC: 7.3168881278\n",
      "\n",
      "Proportion of trips longer than 30 min in Chicago: 8.34731252859\n",
      "\n",
      "Proportion of trips longer than 30 min in Washington: 10.8388867111\n",
      "\n"
     ]
    }
   ],
   "source": [
    "#for printing city name\n",
    "i = 0\n",
    "\n",
    "#looping through list of datafiles and calling the function to print each cities statistics\n",
    "for city in cities_data:\n",
    "    \n",
    "    #saves the value returned by a function to respective var\n",
    "    yes, total = lenght_more_30min(city)\n",
    "    #calculates proportion\n",
    "    prop = (yes/total)*100\n",
    "    \n",
    "    #displays output\n",
    "    print('Proportion of trips longer than 30 min in ' + city_names[i] + ': ' + str(prop) + '\\n')\n",
    "    \n",
    "    i+=1"
   ]
  },
  {
   "cell_type": "markdown",
   "metadata": {},
   "source": [
    "**Question 4c**: Dig deeper into the question of trip duration based on ridership. Choose one city. Within that city, which type of user takes longer rides on average: Subscribers or Customers?\n",
    "\n",
    "**Answer**:"
   ]
  },
  {
   "cell_type": "code",
   "execution_count": 25,
   "metadata": {},
   "outputs": [],
   "source": [
    "#function for calculating mean duration of subscribers and customers and who travels most for each city\n",
    "def avg_length_sub_cust(city):\n",
    "    \n",
    "    #this will calculate the mean of trip duration for subscribers and customers\n",
    "    sub_length_mean = city.loc[city['usertype'] == 'Subscriber', 'tripduration'].mean()\n",
    "    cust_length_mean = city.loc[city['usertype'] == 'Customer', 'tripduration'].mean()\n",
    "    \n",
    "    #who rides the most? subscribers or customers\n",
    "    if sub_length_mean > cust_length_mean:\n",
    "        best = 'Subscribers'\n",
    "    else:\n",
    "        best = 'Customers'\n",
    "        \n",
    "    return sub_length_mean, cust_length_mean, best"
   ]
  },
  {
   "cell_type": "code",
   "execution_count": 26,
   "metadata": {},
   "outputs": [
    {
     "name": "stdout",
     "output_type": "stream",
     "text": [
      "The avarage trip of Subscribers:13.6807905239, The average trip of customers: 32.9820043068\n",
      "\n",
      "Type of users took longer rides: Customers\n",
      "\n",
      "\n",
      "The avarage trip of Subscribers:12.0672016903, The average trip of customers: 30.979781134\n",
      "\n",
      "Type of users took longer rides: Customers\n",
      "\n",
      "\n",
      "The avarage trip of Subscribers:12.5281204993, The average trip of customers: 41.6780313925\n",
      "\n",
      "Type of users took longer rides: Customers\n",
      "\n",
      "\n"
     ]
    }
   ],
   "source": [
    "#for printing city name\n",
    "i = 0\n",
    "\n",
    "#looping through list of datafiles and calling the function to print each cities statistics\n",
    "for city in cities_data:\n",
    "    \n",
    "    #saves the value returned by a function to respective var\n",
    "    sub_length_mean, cust_length_mean, best = avg_length_sub_cust(city)\n",
    "    \n",
    "    #displays output\n",
    "    print('The avarage trip of Subscribers:' + str(sub_length_mean) + ', The average trip of customers: ' + str(cust_length_mean) + '\\n')\n",
    "    print('Type of users took longer rides: ' +  best + '\\n\\n')\n",
    "    i+=1"
   ]
  },
  {
   "cell_type": "markdown",
   "metadata": {},
   "source": [
    "<a id='visualizations'></a>\n",
    "### Visualizations\n",
    "\n",
    "The last set of values that you computed should have pulled up an interesting result. While the mean trip time for Subscribers is well under 30 minutes, the mean trip time for Customers is actually _above_ 30 minutes! It will be interesting for us to look at how the trip times are distributed. In order to do this, a new library will be introduced here, `matplotlib`.\n",
    "\n",
    "Create a histogram of the trip times for these cities. Don't separate the Subscribers and Customers for now: just collect all of the trip times and plot them."
   ]
  },
  {
   "cell_type": "code",
   "execution_count": 27,
   "metadata": {},
   "outputs": [],
   "source": [
    "#function for graphing trip duration for each cities\n",
    "def plot_trip_duration(city):\n",
    "    \n",
    "    #plotting hist of tripduration\n",
    "    plot = plt.hist(city[\"tripduration\"])\n",
    "    plt.xlabel('Trip Duration')\n",
    "    plt.ylabel('No. of users')\n",
    "    plt.title(city_names[i])\n",
    "    plt.show()"
   ]
  },
  {
   "cell_type": "code",
   "execution_count": 28,
   "metadata": {},
   "outputs": [
    {
     "data": {
      "image/png": "[encoded data removed]",
      "text/plain": [
       "<matplotlib.figure.Figure at 0x514730>"
      ]
     },
     "metadata": {},
     "output_type": "display_data"
    },
    {
     "data": {
      "image/png": "[encoded data removed]",
      "text/plain": [
       "<matplotlib.figure.Figure at 0x548b30>"
      ]
     },
     "metadata": {},
     "output_type": "display_data"
    },
    {
     "data": {
      "image/png": "[encoded data removed]",
      "text/plain": [
       "<matplotlib.figure.Figure at 0x5146b0>"
      ]
     },
     "metadata": {},
     "output_type": "display_data"
    }
   ],
   "source": [
    "#loop through cities list\n",
    "i=0\n",
    "for city in cities_data:\n",
    "    plot_trip_duration(city)\n",
    "    i+=1"
   ]
  },
  {
   "cell_type": "markdown",
   "metadata": {},
   "source": [
    "You're probably looking at a plot that's completely unexpected. The plot consists of one extremely tall bar on the left, maybe a very short second bar, and a whole lot of empty space in the center and right. Take a look at the duration values on the x-axis. This suggests that there are some highly infrequent outliers in the data.\n",
    "\n",
    "**Question 5**: Plot the distribution of trip times for the Subscribers in your selected city. Do the same thing for only the Customers. Add limits to the plots so that only trips of duration less than 75 minutes are plotted. As a bonus, set the plots up so that bars are in five-minute wide intervals. For each group, where is the peak of each distribution? How would you describe the shape of each distribution?\n",
    "\n",
    "**Answer**: Since we have to plot for any one city, I choose to plot of Washington DC city."
   ]
  },
  {
   "cell_type": "code",
   "execution_count": 59,
   "metadata": {},
   "outputs": [
    {
     "data": {
      "image/png": "[encoded data removed]",
      "text/plain": [
       "<matplotlib.figure.Figure at 0x17067130>"
      ]
     },
     "metadata": {},
     "output_type": "display_data"
    },
    {
     "data": {
      "image/png": "[encoded data removed]",
      "text/plain": [
       "<matplotlib.figure.Figure at 0x16f10710>"
      ]
     },
     "metadata": {},
     "output_type": "display_data"
    }
   ],
   "source": [
    "#copying the data of subscribers and customers to different variables since we have to compare trip duration with them\n",
    "Washington_DC_subs = Washington_DC_data.loc[Washington_DC_data['usertype'] == 'Subscriber']\n",
    "Washington_DC_cust = Washington_DC_data.loc[Washington_DC_data['usertype'] == 'Customer']\n",
    "\n",
    "#now from these data we want only the duration time whoo traveled 75 min or less\n",
    "Washington_DC_subs_75 = Washington_DC_subs.loc[Washington_DC_data['tripduration'] <= 75, 'tripduration']\n",
    "Washington_DC_cust_75 = Washington_DC_cust.loc[Washington_DC_data['tripduration'] <= 75, 'tripduration']\n",
    "\n",
    "#graph size\n",
    "plt.figure(figsize=(7,5))\n",
    "\n",
    "#graph type with no. of bins\n",
    "plt.hist(Washington_DC_subs_75, bins = 15)\n",
    "\n",
    "#lables\n",
    "plt.xlabel('Trip Duration')\n",
    "plt.ylabel('No. of users')\n",
    "\n",
    "#start, end, difference - x ticks\n",
    "plt.xticks(np.arange(5,75,5))\n",
    "\n",
    "#title\n",
    "plt.title('Distribution of Trip duration in Washington for Subscribers')\n",
    "#displaying of subscribers\n",
    "plt.show()\n",
    "\n",
    "#graph size\n",
    "plt.figure(figsize=(7,5))\n",
    "\n",
    "#graph type with no. of bins\n",
    "plt.hist(Washington_DC_cust_75, bins = 15)\n",
    "\n",
    "#lables\n",
    "plt.xlabel('Trip Duration')\n",
    "plt.ylabel('No. of users')\n",
    "\n",
    "#start, end, difference - x ticks\n",
    "plt.xticks(np.arange(5,75,5))\n",
    "\n",
    "#title\n",
    "plt.title('Distribution of Trip duration in Washington for Customers')\n",
    "#displaying of customers\n",
    "plt.show()"
   ]
  },
  {
   "cell_type": "markdown",
   "metadata": {},
   "source": [
    "- As you can see the distribution of trip duration in Washington city of 'Subscribed' members is positively skewed (skewed right). Not lot of subscribed members ride more than 25 mins. The mode of this distribituon is between 5-10 min, means the proportion of the no. of subscribed users who ride between 5-10 min is highest than any duration of travel time span. The mean in such distribution is pulled to the tails while the median is always between the mode and mean in such distributiions.\n",
    "\n",
    "- The same distribution is also seen for customer users in Washington city. Its peaky to the left(kind of) and has tail to the right making it positively skewed or skewed right distribution. If you visualize this distribution from 5-30 on x-axis(duration) you will see that it has a normal distribution which includes highest no. of customers who ride beteween these time spans. The most number of users in the distribution compared to all other time spans (duration), ride between 15-20 min, making the mode of the distribution."
   ]
  },
  {
   "cell_type": "markdown",
   "metadata": {},
   "source": [
    "\n",
    "<a id='eda_continued'></a>\n",
    "## Performing Your Own Analysis\n",
    "\n",
    "So far, you've performed an initial exploration into the data available. You have compared the relative volume of trips made between three U.S. cities and the ratio of trips made by Subscribers and Customers. For one of these cities, you have investigated differences between Subscribers and Customers in terms of how long a typical trip lasts. Now it is your turn to continue the exploration in a direction that you choose. Here are a few suggestions for questions to explore:\n",
    "\n",
    "- How does ridership differ by month or season? Which month / season has the highest ridership? Does the ratio of Subscriber trips to Customer trips change depending on the month or season?\n",
    "- Is the pattern of ridership different on the weekends versus weekdays? On what days are Subscribers most likely to use the system? What about Customers? Does the average duration of rides change depending on the day of the week?\n",
    "- During what time of day is the system used the most? Is there a difference in usage patterns for Subscribers and Customers?\n",
    "\n",
    "If any of the questions you posed in your answer to question 1 align with the bullet points above, this is a good opportunity to investigate one of them. As part of your investigation, you will need to create a visualization. If you want to create something other than a histogram, then you might want to consult the [Pyplot documentation](https://matplotlib.org/devdocs/api/pyplot_summary.html). In particular, if you are plotting values across a categorical variable (e.g. city, user type), a bar chart will be useful. The [documentation page for `.bar()`](https://matplotlib.org/devdocs/api/_as_gen/matplotlib.pyplot.bar.html#matplotlib.pyplot.bar) includes links at the bottom of the page with examples for you to build off of for your own use.\n",
    "\n",
    "**Question 6**: Continue the investigation by exploring another question that could be answered by the data available. Document the question you want to explore below. Your investigation should involve at least two variables and should compare at least two groups. You should also use at least one visualization as part of your explorations.\n",
    "\n",
    "**Answer**:\n",
    "**"
   ]
  },
  {
   "cell_type": "code",
   "execution_count": null,
   "metadata": {},
   "outputs": [],
   "source": []
  },
  {
   "cell_type": "markdown",
   "metadata": {},
   "source": [
    "<a id='conclusions'></a>\n",
    "## Conclusions\n",
    "\n",
    "Congratulations on completing the project! This is only a sampling of the data analysis process: from generating questions, wrangling the data, and to exploring the data. Normally, at this point in the data analysis process, you might want to draw conclusions about the data by performing a statistical test or fitting the data to a model for making predictions. There are also a lot of potential analyses that could be performed on the data which are not possible with only the data provided. For example, detailed location data has not been investigated. Where are the most commonly used docks? What are the most common routes? As another example, weather has potential to have a large impact on daily ridership. How much is ridership impacted when there is rain or snow? Are subscribers or customers affected more by changes in weather?\n",
    "\n",
    "**Question 7**: Putting the bike share data aside, think of a topic or field of interest where you would like to be able to apply the techniques of data science. What would you like to be able to learn from your chosen subject?\n",
    "\n",
    "**Answer**: "
   ]
  }
 ],
 "metadata": {
  "kernelspec": {
   "display_name": "Python 3",
   "language": "python",
   "name": "python3"
  },
  "language_info": {
   "codemirror_mode": {
    "name": "ipython",
    "version": 3
   },
   "file_extension": ".py",
   "mimetype": "text/x-python",
   "name": "python",
   "nbconvert_exporter": "python",
   "pygments_lexer": "ipython3",
   "version": "3.6.2"
  }
 },
 "nbformat": 4,
 "nbformat_minor": 2
}
